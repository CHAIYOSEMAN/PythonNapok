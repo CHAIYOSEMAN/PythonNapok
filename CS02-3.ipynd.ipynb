{
 "cells": [
  {
   "cell_type": "code",
   "execution_count": 4,
   "metadata": {},
   "outputs": [
    {
     "name": "stdout",
     "output_type": "stream",
     "text": [
      "Your B'day is :28/08/2006\n"
     ]
    }
   ],
   "source": [
    "birthday=input(\"What is your birth day? \") \n",
    "birthmonth=input(\"What is your birth month? \") \n",
    "birthyear=input(\"What is your birth year? \")\n",
    "print(\"Your B'day is :\"+birthday+(\"/\")+birthmonth+(\"/\")+birthyear)  "
   ]
  }
 ],
 "metadata": {
  "kernelspec": {
   "display_name": "Python 3.9.12 ('base')",
   "language": "python",
   "name": "python3"
  },
  "language_info": {
   "codemirror_mode": {
    "name": "ipython",
    "version": 3
   },
   "file_extension": ".py",
   "mimetype": "text/x-python",
   "name": "python",
   "nbconvert_exporter": "python",
   "pygments_lexer": "ipython3",
   "version": "3.9.12"
  },
  "orig_nbformat": 4,
  "vscode": {
   "interpreter": {
    "hash": "263930470851f494f0ed2879c35b57985588df20f9e529b86e97dd5eb9ddc466"
   }
  }
 },
 "nbformat": 4,
 "nbformat_minor": 2
}
